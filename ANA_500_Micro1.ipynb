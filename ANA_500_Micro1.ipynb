{
 "cells": [
  {
   "cell_type": "markdown",
   "id": "52980799-b8f7-49ef-a0ed-07804d9d5e29",
   "metadata": {},
   "source": [
    "Bernardino Payan ID: 9000684321 Email: b.payan8432@student.nu.edu"
   ]
  },
  {
   "cell_type": "markdown",
   "id": "dbe42d0d-d47e-4934-b30d-93c6aaa3a8a0",
   "metadata": {},
   "source": [
    "Micro Project 1"
   ]
  },
  {
   "cell_type": "code",
   "execution_count": 2,
   "id": "b7dcb8a6-c93e-4b35-b8ee-8b71f201553c",
   "metadata": {},
   "outputs": [
    {
     "data": {
      "text/plain": [
       "'/Users/bernardinopayan'"
      ]
     },
     "execution_count": 2,
     "metadata": {},
     "output_type": "execute_result"
    }
   ],
   "source": [
    "pwd"
   ]
  },
  {
   "cell_type": "code",
   "execution_count": 20,
   "id": "3de84143-5a80-4917-a83f-3940177caa4e",
   "metadata": {},
   "outputs": [],
   "source": [
    "# import packages\n",
    "import pandas as pd\n",
    "import numpy as np\n",
    "import matplotlib.pyplot as plt\n",
    "import seaborn as sns"
   ]
  },
  {
   "cell_type": "code",
   "execution_count": 12,
   "id": "feb25a77-0b35-406f-bae4-a3d057550749",
   "metadata": {},
   "outputs": [],
   "source": [
    "# Working directory:\n",
    "DATA = Path('.')"
   ]
  },
  {
   "cell_type": "code",
   "execution_count": 23,
   "id": "f390882c-20d8-4618-97ac-36fbbae8364f",
   "metadata": {},
   "outputs": [
    {
     "data": {
      "text/html": [
       "<div>\n",
       "<style scoped>\n",
       "    .dataframe tbody tr th:only-of-type {\n",
       "        vertical-align: middle;\n",
       "    }\n",
       "\n",
       "    .dataframe tbody tr th {\n",
       "        vertical-align: top;\n",
       "    }\n",
       "\n",
       "    .dataframe thead th {\n",
       "        text-align: right;\n",
       "    }\n",
       "</style>\n",
       "<table border=\"1\" class=\"dataframe\">\n",
       "  <thead>\n",
       "    <tr style=\"text-align: right;\">\n",
       "      <th></th>\n",
       "      <th>Date</th>\n",
       "      <th>Open</th>\n",
       "      <th>High</th>\n",
       "      <th>Low</th>\n",
       "      <th>Close</th>\n",
       "      <th>Volume</th>\n",
       "      <th>InterestRate</th>\n",
       "      <th>ExchangeRate</th>\n",
       "      <th>VIX</th>\n",
       "      <th>TEDSpread</th>\n",
       "      <th>EFFR</th>\n",
       "      <th>Gold</th>\n",
       "      <th>Oil</th>\n",
       "    </tr>\n",
       "  </thead>\n",
       "  <tbody>\n",
       "    <tr>\n",
       "      <th>0</th>\n",
       "      <td>2010-01-04</td>\n",
       "      <td>6.640000</td>\n",
       "      <td>6.810000</td>\n",
       "      <td>6.633333</td>\n",
       "      <td>6.746667</td>\n",
       "      <td>6514500.0</td>\n",
       "      <td>0.11</td>\n",
       "      <td>1.4419</td>\n",
       "      <td>20.04</td>\n",
       "      <td>0.17</td>\n",
       "      <td>0.12</td>\n",
       "      <td>1117.699951</td>\n",
       "      <td>81.510002</td>\n",
       "    </tr>\n",
       "    <tr>\n",
       "      <th>1</th>\n",
       "      <td>2010-01-05</td>\n",
       "      <td>6.643333</td>\n",
       "      <td>6.773333</td>\n",
       "      <td>6.643333</td>\n",
       "      <td>6.766667</td>\n",
       "      <td>4445100.0</td>\n",
       "      <td>0.11</td>\n",
       "      <td>1.4402</td>\n",
       "      <td>19.35</td>\n",
       "      <td>0.18</td>\n",
       "      <td>0.12</td>\n",
       "      <td>1118.099976</td>\n",
       "      <td>81.769997</td>\n",
       "    </tr>\n",
       "    <tr>\n",
       "      <th>2</th>\n",
       "      <td>2010-01-06</td>\n",
       "      <td>6.733333</td>\n",
       "      <td>6.786667</td>\n",
       "      <td>6.720000</td>\n",
       "      <td>6.763333</td>\n",
       "      <td>7340100.0</td>\n",
       "      <td>0.11</td>\n",
       "      <td>1.4404</td>\n",
       "      <td>19.16</td>\n",
       "      <td>0.19</td>\n",
       "      <td>0.12</td>\n",
       "      <td>1135.900024</td>\n",
       "      <td>83.180000</td>\n",
       "    </tr>\n",
       "    <tr>\n",
       "      <th>3</th>\n",
       "      <td>2010-01-07</td>\n",
       "      <td>6.750000</td>\n",
       "      <td>6.766667</td>\n",
       "      <td>6.630000</td>\n",
       "      <td>6.673333</td>\n",
       "      <td>8498400.0</td>\n",
       "      <td>0.11</td>\n",
       "      <td>1.4314</td>\n",
       "      <td>19.06</td>\n",
       "      <td>0.20</td>\n",
       "      <td>0.10</td>\n",
       "      <td>1133.099976</td>\n",
       "      <td>82.660004</td>\n",
       "    </tr>\n",
       "    <tr>\n",
       "      <th>4</th>\n",
       "      <td>2010-01-08</td>\n",
       "      <td>6.676667</td>\n",
       "      <td>6.766667</td>\n",
       "      <td>6.626667</td>\n",
       "      <td>6.743333</td>\n",
       "      <td>4347600.0</td>\n",
       "      <td>0.11</td>\n",
       "      <td>1.4357</td>\n",
       "      <td>18.13</td>\n",
       "      <td>0.20</td>\n",
       "      <td>0.11</td>\n",
       "      <td>1138.199951</td>\n",
       "      <td>82.750000</td>\n",
       "    </tr>\n",
       "    <tr>\n",
       "      <th>5</th>\n",
       "      <td>2010-01-11</td>\n",
       "      <td>6.746667</td>\n",
       "      <td>6.800000</td>\n",
       "      <td>6.700000</td>\n",
       "      <td>6.760000</td>\n",
       "      <td>5364300.0</td>\n",
       "      <td>0.11</td>\n",
       "      <td>1.4536</td>\n",
       "      <td>17.55</td>\n",
       "      <td>0.21</td>\n",
       "      <td>0.11</td>\n",
       "      <td>1150.699951</td>\n",
       "      <td>82.519997</td>\n",
       "    </tr>\n",
       "    <tr>\n",
       "      <th>6</th>\n",
       "      <td>2010-01-12</td>\n",
       "      <td>6.720000</td>\n",
       "      <td>6.766667</td>\n",
       "      <td>6.606667</td>\n",
       "      <td>6.643333</td>\n",
       "      <td>5198400.0</td>\n",
       "      <td>0.11</td>\n",
       "      <td>1.4523</td>\n",
       "      <td>18.25</td>\n",
       "      <td>0.20</td>\n",
       "      <td>0.11</td>\n",
       "      <td>1128.900024</td>\n",
       "      <td>80.790001</td>\n",
       "    </tr>\n",
       "    <tr>\n",
       "      <th>7</th>\n",
       "      <td>2010-01-13</td>\n",
       "      <td>6.616667</td>\n",
       "      <td>6.716667</td>\n",
       "      <td>6.583333</td>\n",
       "      <td>6.706667</td>\n",
       "      <td>6831900.0</td>\n",
       "      <td>0.11</td>\n",
       "      <td>1.4492</td>\n",
       "      <td>17.85</td>\n",
       "      <td>0.19</td>\n",
       "      <td>0.11</td>\n",
       "      <td>1136.400024</td>\n",
       "      <td>79.650002</td>\n",
       "    </tr>\n",
       "    <tr>\n",
       "      <th>8</th>\n",
       "      <td>2010-01-14</td>\n",
       "      <td>6.673333</td>\n",
       "      <td>6.763333</td>\n",
       "      <td>6.643333</td>\n",
       "      <td>6.750000</td>\n",
       "      <td>4493700.0</td>\n",
       "      <td>0.11</td>\n",
       "      <td>1.4478</td>\n",
       "      <td>17.63</td>\n",
       "      <td>0.20</td>\n",
       "      <td>0.11</td>\n",
       "      <td>1142.599976</td>\n",
       "      <td>79.389999</td>\n",
       "    </tr>\n",
       "    <tr>\n",
       "      <th>9</th>\n",
       "      <td>2010-01-15</td>\n",
       "      <td>6.740000</td>\n",
       "      <td>6.800000</td>\n",
       "      <td>6.676667</td>\n",
       "      <td>6.720000</td>\n",
       "      <td>6981900.0</td>\n",
       "      <td>0.11</td>\n",
       "      <td>1.4376</td>\n",
       "      <td>17.91</td>\n",
       "      <td>0.19</td>\n",
       "      <td>0.12</td>\n",
       "      <td>1130.099976</td>\n",
       "      <td>78.000000</td>\n",
       "    </tr>\n",
       "  </tbody>\n",
       "</table>\n",
       "</div>"
      ],
      "text/plain": [
       "         Date      Open      High       Low     Close     Volume  \\\n",
       "0  2010-01-04  6.640000  6.810000  6.633333  6.746667  6514500.0   \n",
       "1  2010-01-05  6.643333  6.773333  6.643333  6.766667  4445100.0   \n",
       "2  2010-01-06  6.733333  6.786667  6.720000  6.763333  7340100.0   \n",
       "3  2010-01-07  6.750000  6.766667  6.630000  6.673333  8498400.0   \n",
       "4  2010-01-08  6.676667  6.766667  6.626667  6.743333  4347600.0   \n",
       "5  2010-01-11  6.746667  6.800000  6.700000  6.760000  5364300.0   \n",
       "6  2010-01-12  6.720000  6.766667  6.606667  6.643333  5198400.0   \n",
       "7  2010-01-13  6.616667  6.716667  6.583333  6.706667  6831900.0   \n",
       "8  2010-01-14  6.673333  6.763333  6.643333  6.750000  4493700.0   \n",
       "9  2010-01-15  6.740000  6.800000  6.676667  6.720000  6981900.0   \n",
       "\n",
       "   InterestRate  ExchangeRate    VIX  TEDSpread  EFFR         Gold        Oil  \n",
       "0          0.11        1.4419  20.04       0.17  0.12  1117.699951  81.510002  \n",
       "1          0.11        1.4402  19.35       0.18  0.12  1118.099976  81.769997  \n",
       "2          0.11        1.4404  19.16       0.19  0.12  1135.900024  83.180000  \n",
       "3          0.11        1.4314  19.06       0.20  0.10  1133.099976  82.660004  \n",
       "4          0.11        1.4357  18.13       0.20  0.11  1138.199951  82.750000  \n",
       "5          0.11        1.4536  17.55       0.21  0.11  1150.699951  82.519997  \n",
       "6          0.11        1.4523  18.25       0.20  0.11  1128.900024  80.790001  \n",
       "7          0.11        1.4492  17.85       0.19  0.11  1136.400024  79.650002  \n",
       "8          0.11        1.4478  17.63       0.20  0.11  1142.599976  79.389999  \n",
       "9          0.11        1.4376  17.91       0.19  0.12  1130.099976  78.000000  "
      ]
     },
     "execution_count": 23,
     "metadata": {},
     "output_type": "execute_result"
    }
   ],
   "source": [
    "# load the data\n",
    "nasdaq_df = pd.read_csv(DATA / 'nasdq.csv')\n",
    "# review first seven records\n",
    "nasdaq_df.head(10)"
   ]
  },
  {
   "cell_type": "code",
   "execution_count": 24,
   "id": "9dd3ff3a-f805-400a-9628-04fa72076f81",
   "metadata": {},
   "outputs": [
    {
     "name": "stdout",
     "output_type": "stream",
     "text": [
      "<class 'pandas.core.frame.DataFrame'>\n",
      "RangeIndex: 3914 entries, 0 to 3913\n",
      "Data columns (total 13 columns):\n",
      " #   Column        Non-Null Count  Dtype  \n",
      "---  ------        --------------  -----  \n",
      " 0   Date          3914 non-null   object \n",
      " 1   Open          3914 non-null   float64\n",
      " 2   High          3914 non-null   float64\n",
      " 3   Low           3914 non-null   float64\n",
      " 4   Close         3914 non-null   float64\n",
      " 5   Volume        3914 non-null   float64\n",
      " 6   InterestRate  3914 non-null   float64\n",
      " 7   ExchangeRate  3914 non-null   float64\n",
      " 8   VIX           3914 non-null   float64\n",
      " 9   TEDSpread     3914 non-null   float64\n",
      " 10  EFFR          3914 non-null   float64\n",
      " 11  Gold          3914 non-null   float64\n",
      " 12  Oil           3914 non-null   float64\n",
      "dtypes: float64(12), object(1)\n",
      "memory usage: 397.6+ KB\n",
      "None\n"
     ]
    }
   ],
   "source": [
    "#data information\n",
    "print(nasdaq_df.info())"
   ]
  },
  {
   "cell_type": "code",
   "execution_count": 25,
   "id": "0b950fb4-f9ea-4baa-a5ac-d52e94db0bb3",
   "metadata": {},
   "outputs": [
    {
     "data": {
      "text/plain": [
       "(3914, 13)"
      ]
     },
     "execution_count": 25,
     "metadata": {},
     "output_type": "execute_result"
    }
   ],
   "source": [
    "# data dimension\n",
    "nasdaq_df.shape"
   ]
  },
  {
   "cell_type": "code",
   "execution_count": 26,
   "id": "999c1ad6-45d7-4a60-8290-dd7ef91979d4",
   "metadata": {},
   "outputs": [
    {
     "name": "stdout",
     "output_type": "stream",
     "text": [
      "Date            0\n",
      "Open            0\n",
      "High            0\n",
      "Low             0\n",
      "Close           0\n",
      "Volume          0\n",
      "InterestRate    0\n",
      "ExchangeRate    0\n",
      "VIX             0\n",
      "TEDSpread       0\n",
      "EFFR            0\n",
      "Gold            0\n",
      "Oil             0\n",
      "dtype: int64\n"
     ]
    }
   ],
   "source": [
    "# Check for missing values in the entire DataFrame\n",
    "missing_values = nasdaq_df.isnull().sum()\n",
    "\n",
    "print(missing_values)"
   ]
  },
  {
   "cell_type": "code",
   "execution_count": 27,
   "id": "7d13fa42-df79-4a0b-be84-7bc7e5a13b57",
   "metadata": {},
   "outputs": [
    {
     "data": {
      "text/plain": [
       "Date             object\n",
       "Open            float64\n",
       "High            float64\n",
       "Low             float64\n",
       "Close           float64\n",
       "Volume          float64\n",
       "InterestRate    float64\n",
       "ExchangeRate    float64\n",
       "VIX             float64\n",
       "TEDSpread       float64\n",
       "EFFR            float64\n",
       "Gold            float64\n",
       "Oil             float64\n",
       "dtype: object"
      ]
     },
     "execution_count": 27,
     "metadata": {},
     "output_type": "execute_result"
    }
   ],
   "source": [
    "# variable dat types\n",
    "nasdaq_df.dtypes"
   ]
  },
  {
   "cell_type": "code",
   "execution_count": 28,
   "id": "2e03d655-a34c-4a21-a46c-8df0bbce505b",
   "metadata": {},
   "outputs": [
    {
     "name": "stdout",
     "output_type": "stream",
     "text": [
      "              Open         High          Low        Close        Volume  \\\n",
      "count  3914.000000  3914.000000  3914.000000  3914.000000  3.914000e+03   \n",
      "mean     29.218649    29.491567    28.943843    29.226927  3.708611e+06   \n",
      "std      19.669386    19.840919    19.486496    19.668668  3.035420e+06   \n",
      "min       5.820000     5.916667     5.726667     5.766667  5.754000e+05   \n",
      "25%      10.995000    11.101667    10.890000    11.024167  2.035875e+06   \n",
      "50%      23.708333    23.858334    23.575001    23.733334  2.834950e+06   \n",
      "75%      47.375001    47.807499    46.804999    47.330002  4.276500e+06   \n",
      "max      75.599998    75.680000    74.050003    75.239998  5.478960e+07   \n",
      "\n",
      "       InterestRate  ExchangeRate          VIX    TEDSpread         EFFR  \\\n",
      "count   3914.000000   3914.000000  3914.000000  3914.000000  3914.000000   \n",
      "mean       1.191165      1.191561    18.374990     0.241193     1.189384   \n",
      "std        1.686064      0.113733     6.965917     0.148833     1.684429   \n",
      "min        0.050000      0.961600     9.140000     0.060000     0.040000   \n",
      "25%        0.090000      1.100000    13.570000     0.130000     0.090000   \n",
      "50%        0.190000      1.159100    16.605000     0.210000     0.190000   \n",
      "75%        1.700000      1.295575    21.157500     0.320000     1.700000   \n",
      "max        5.330000      1.487500    82.690000     1.420000     5.330000   \n",
      "\n",
      "              Gold          Oil  \n",
      "count  3914.000000  3914.000000  \n",
      "mean   1531.077030    72.019456  \n",
      "std     330.904451    21.470288  \n",
      "min    1050.800049   -37.630001  \n",
      "25%    1257.425018    53.185000  \n",
      "50%    1422.049988    73.465000  \n",
      "75%    1778.574982    89.877499  \n",
      "max    2760.800049   123.699997  \n"
     ]
    }
   ],
   "source": [
    "print(nasdaq_df.describe())"
   ]
  },
  {
   "cell_type": "code",
   "execution_count": 39,
   "id": "641c57b9-83a3-4967-a291-bcb593ac9bca",
   "metadata": {},
   "outputs": [
    {
     "name": "stdout",
     "output_type": "stream",
     "text": [
      "Index(['Date', 'Open', 'High', 'Low', 'Close', 'Volume', 'InterestRate',\n",
      "       'ExchangeRate', 'VIX', 'TEDSpread', 'EFFR', 'Gold', 'Oil'],\n",
      "      dtype='object')\n"
     ]
    }
   ],
   "source": [
    "# Clean Data\n",
    "# Check column names\n",
    "print(nasdaq_df.columns)\n",
    "\n",
    "# Clean column names of any whitespace\n",
    "nasdaq_df.columns = nasdaq_df.columns.str.strip()\n",
    "\n",
    "# Attempt to convert 'Date' column to datetime\n",
    "if 'Date' in nasdaq_df.columns:\n",
    "    nasdaq_df['Date'] = pd.to_datetime(nasdaq_df['Date'], errors='coerce')\n",
    "else:\n",
    "    print(\"Column 'Date' not found in DataFrame.\")\n",
    "\n",
    "# Check for NaT values after conversion\n",
    "if nasdaq_df['Date'].isnull().any():\n",
    "    print(\"Some date conversions failed. NaT (Not a Time) found in the Date column.\")\n",
    "    # Optionally drop these rows\n",
    "    nasdaq_df.dropna(subset=['Date'], inplace=True)\n",
    "\n",
    "# Remove duplicate rows, if any\n",
    "nasdaq_df.drop_duplicates(inplace=True)"
   ]
  },
  {
   "cell_type": "code",
   "execution_count": 40,
   "id": "7b91e2b3-d483-40cc-a972-2603e79db7ae",
   "metadata": {},
   "outputs": [
    {
     "name": "stdout",
     "output_type": "stream",
     "text": [
      "<class 'pandas.core.frame.DataFrame'>\n",
      "RangeIndex: 3914 entries, 0 to 3913\n",
      "Data columns (total 13 columns):\n",
      " #   Column        Non-Null Count  Dtype         \n",
      "---  ------        --------------  -----         \n",
      " 0   Date          3914 non-null   datetime64[ns]\n",
      " 1   Open          3914 non-null   float64       \n",
      " 2   High          3914 non-null   float64       \n",
      " 3   Low           3914 non-null   float64       \n",
      " 4   Close         3914 non-null   float64       \n",
      " 5   Volume        3914 non-null   float64       \n",
      " 6   InterestRate  3914 non-null   float64       \n",
      " 7   ExchangeRate  3914 non-null   float64       \n",
      " 8   VIX           3914 non-null   float64       \n",
      " 9   TEDSpread     3914 non-null   float64       \n",
      " 10  EFFR          3914 non-null   float64       \n",
      " 11  Gold          3914 non-null   float64       \n",
      " 12  Oil           3914 non-null   float64       \n",
      "dtypes: datetime64[ns](1), float64(12)\n",
      "memory usage: 397.6 KB\n",
      "None\n",
      "        Date      Open      High       Low     Close     Volume  InterestRate  \\\n",
      "0 2010-01-04  6.640000  6.810000  6.633333  6.746667  6514500.0          0.11   \n",
      "1 2010-01-05  6.643333  6.773333  6.643333  6.766667  4445100.0          0.11   \n",
      "2 2010-01-06  6.733333  6.786667  6.720000  6.763333  7340100.0          0.11   \n",
      "3 2010-01-07  6.750000  6.766667  6.630000  6.673333  8498400.0          0.11   \n",
      "4 2010-01-08  6.676667  6.766667  6.626667  6.743333  4347600.0          0.11   \n",
      "\n",
      "   ExchangeRate    VIX  TEDSpread  EFFR         Gold        Oil  \n",
      "0        1.4419  20.04       0.17  0.12  1117.699951  81.510002  \n",
      "1        1.4402  19.35       0.18  0.12  1118.099976  81.769997  \n",
      "2        1.4404  19.16       0.19  0.12  1135.900024  83.180000  \n",
      "3        1.4314  19.06       0.20  0.10  1133.099976  82.660004  \n",
      "4        1.4357  18.13       0.20  0.11  1138.199951  82.750000  \n"
     ]
    }
   ],
   "source": [
    "# Check the DataFrame after cleaning\n",
    "print(nasdaq_df.info())\n",
    "print(nasdaq_df.head())"
   ]
  },
  {
   "cell_type": "code",
   "execution_count": 42,
   "id": "db39e8af-58e9-4643-85c7-b313a6dadd39",
   "metadata": {},
   "outputs": [],
   "source": [
    "# Check for potential ouliers\n",
    "# Using IQR to detect outliers in the 'Close' column\n",
    "Q1 = nasdaq_df['Close'].quantile(0.25)\n",
    "Q3 = nasdaq_df['Close'].quantile(0.75)\n",
    "IQR = Q3 - Q1\n",
    "outlier_condition = ((nasdaq_df['Close'] < (Q1 - 1.5 * IQR)) | (nasdaq_df['Close'] > (Q3 + 1.5 * IQR)))\n",
    "\n",
    "# Remove outliers based on the condition\n",
    "nasdaq_df = nasdaq_df[~outlier_condition]"
   ]
  },
  {
   "cell_type": "code",
   "execution_count": 43,
   "id": "4cf4228a-7e3b-4fc6-8f3d-b043ce414600",
   "metadata": {},
   "outputs": [],
   "source": [
    "from sklearn.preprocessing import StandardScaler\n",
    "\n",
    "# Normalize/Standardize certain features\n",
    "scaler = StandardScaler()\n",
    "numeric_columns = ['Open', 'High', 'Low', 'Close', 'Volume', 'InterestRate', \n",
    "                   'ExchangeRate', 'VIX', 'TEDSpread', 'EFFR', 'Gold', 'Oil']\n",
    "\n",
    "nasdaq_df[numeric_columns] = scaler.fit_transform(nasdaq_df[numeric_columns])"
   ]
  },
  {
   "cell_type": "code",
   "execution_count": 46,
   "id": "b1d4c368-c6b8-491e-97c3-b556d4e7c431",
   "metadata": {},
   "outputs": [
    {
     "name": "stdout",
     "output_type": "stream",
     "text": [
      "Index(['Date', 'Open', 'High', 'Low', 'Close', 'Volume', 'InterestRate',\n",
      "       'ExchangeRate', 'VIX', 'TEDSpread', 'EFFR', 'Gold', 'Oil',\n",
      "       'DailyReturn', '20_MA'],\n",
      "      dtype='object')\n"
     ]
    }
   ],
   "source": [
    "# Create a new column for the daily return percentage\n",
    "nasdaq_df['DailyReturn'] = nasdaq_df['Close'].pct_change() * 100\n",
    "\n",
    "# Create moving averages\n",
    "nasdaq_df['20_MA'] = nasdaq_df['Close'].rolling(window=20).mean()\n",
    "\n",
    "# Check column names\n",
    "print(nasdaq_df.columns)"
   ]
  },
  {
   "cell_type": "code",
   "execution_count": null,
   "id": "32ac60b3-bc39-4636-b9ff-2e179bfbad33",
   "metadata": {},
   "outputs": [],
   "source": []
  }
 ],
 "metadata": {
  "kernelspec": {
   "display_name": "Python 3 (ipykernel)",
   "language": "python",
   "name": "python3"
  },
  "language_info": {
   "codemirror_mode": {
    "name": "ipython",
    "version": 3
   },
   "file_extension": ".py",
   "mimetype": "text/x-python",
   "name": "python",
   "nbconvert_exporter": "python",
   "pygments_lexer": "ipython3",
   "version": "3.11.7"
  }
 },
 "nbformat": 4,
 "nbformat_minor": 5
}
